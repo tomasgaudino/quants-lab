{
 "cells": [
  {
   "cell_type": "code",
   "metadata": {
    "collapsed": false,
    "ExecuteTime": {
     "end_time": "2024-11-22T22:37:23.815405Z",
     "start_time": "2024-11-22T22:37:23.812185Z"
    }
   },
   "source": [
    "import os\n",
    "import sys\n",
    "import pandas as pd\n",
    "\n",
    "root_path = os.path.abspath(os.path.join(os.getcwd(), '../..'))\n",
    "sys.path.append(root_path)"
   ],
   "outputs": [],
   "execution_count": 2
  },
  {
   "cell_type": "code",
   "metadata": {
    "collapsed": false,
    "ExecuteTime": {
     "end_time": "2024-11-22T22:38:05.842926Z",
     "start_time": "2024-11-22T22:38:05.183534Z"
    }
   },
   "source": [
    "from core.backtesting.optimizer import StrategyOptimizer\n",
    "import json\n",
    "\n",
    "optimizer = StrategyOptimizer(root_path=root_path)\n",
    "dfs = []\n",
    "for study_name in [\"xgridt_2024-11-22\"]:\n",
    "    trials_df = optimizer.get_study_trials_df(study_name)\n",
    "    trials_df[\"study_name\"] = study_name\n",
    "    dfs.append(trials_df)\n",
    "trials = pd.concat(dfs)\n",
    "def preprocess_trials_df(trials_df):\n",
    "    df = trials_df.copy()\n",
    "    df.columns = [col.replace(\"params_\", \"\") if col.startswith(\"params_\") else col for col in df.columns]\n",
    "    df[\"executors\"] = df[\"executors\"].apply(lambda x: json.loads(x))\n",
    "    df[\"config\"] = df[\"config\"].apply(lambda x: json.loads(x))\n",
    "    df[\"trading_pair\"] = df[\"config\"].apply(lambda x: x['trading_pair'])\n",
    "    df[\"from_timestamp\"] = df[\"executors\"].apply(\n",
    "        lambda x: pd.to_datetime(pd.Series(x[\"timestamp\"].values()).min(), unit=\"s\"))\n",
    "    df[\"to_timestamp\"] = df[\"executors\"].apply(\n",
    "        lambda x: pd.to_datetime(pd.Series(x[\"close_timestamp\"].values()).max(), unit=\"s\"))\n",
    "    return df\n",
    "trials = preprocess_trials_df(trials)\n",
    "\n",
    "trials['from_timestamp'] = pd.to_datetime(trials['from_timestamp'])\n",
    "trials['to_timestamp'] = pd.to_datetime(trials['to_timestamp'])\n",
    "trials['days_diff'] = (trials['to_timestamp'] - trials['from_timestamp']).dt.total_seconds() / 86400\n",
    "trials['executors_per_day'] = trials['total_executors'] / trials['days_diff']\n",
    "trials['volume_per_day'] = trials['total_volume'] / trials['days_diff']"
   ],
   "outputs": [],
   "execution_count": 5
  },
  {
   "cell_type": "code",
   "metadata": {
    "ExecuteTime": {
     "end_time": "2024-11-22T22:38:37.467011Z",
     "start_time": "2024-11-22T22:38:37.464990Z"
    }
   },
   "source": [
    "len(trials)"
   ],
   "outputs": [
    {
     "data": {
      "text/plain": [
       "324"
      ]
     },
     "execution_count": 6,
     "metadata": {},
     "output_type": "execute_result"
    }
   ],
   "execution_count": 6
  },
  {
   "cell_type": "code",
   "metadata": {
    "ExecuteTime": {
     "end_time": "2024-11-22T22:38:39.247650Z",
     "start_time": "2024-11-22T22:38:39.243210Z"
    }
   },
   "source": [
    "trials.drop_duplicates(subset=[\"config\"], inplace=True)\n",
    "len(trials)"
   ],
   "outputs": [
    {
     "data": {
      "text/plain": [
       "324"
      ]
     },
     "execution_count": 7,
     "metadata": {},
     "output_type": "execute_result"
    }
   ],
   "execution_count": 7
  },
  {
   "cell_type": "code",
   "metadata": {
    "ExecuteTime": {
     "end_time": "2024-11-22T22:40:59.565070Z",
     "start_time": "2024-11-22T22:40:59.547934Z"
    }
   },
   "source": [
    "def get_best_trials(df):\n",
    "    final_df = pd.DataFrame()\n",
    "\n",
    "    for trading_pair in df['trading_pair'].unique():\n",
    "        trading_pair_df = df[(df['trading_pair'] == trading_pair) & (df['executors'])]\n",
    "        # filtered = trading_pair_df[\n",
    "        #     (trading_pair_df['executors_per_day'] >= trading_pair_df['executors_per_day'].median()) &\n",
    "        #     (trading_pair_df['volume_per_day'] >= trading_pair_df['volume_per_day'].median()) &\n",
    "        #     (trading_pair_df['sharpe_ratio'] >= trading_pair_df['sharpe_ratio'].median()) &\n",
    "        #     (trading_pair_df['max_drawdown_pct'] <= trading_pair_df['max_drawdown_pct'].median())\n",
    "        # ]\n",
    "        filtered = trading_pair_df.copy()\n",
    "\n",
    "        if filtered.empty: \n",
    "            continue\n",
    "\n",
    "        normalized_columns = ['executors_per_day', 'volume_per_day', 'sharpe_ratio', 'max_drawdown_pct']\n",
    "        for col in normalized_columns:\n",
    "            filtered[col] = filtered[col] / filtered[col].max()\n",
    "\n",
    "        filtered['score'] = (\n",
    "            filtered['executors_per_day'] *\n",
    "            filtered['volume_per_day'] *\n",
    "            filtered['sharpe_ratio'] *\n",
    "            (1 / filtered['max_drawdown_pct'])\n",
    "        )\n",
    "        filtered['score'] = filtered['score'] / filtered['score'].max()\n",
    "        filtered = filtered.dropna().sort_values(by='score', ascending=False).head(2)\n",
    "\n",
    "        final_df = pd.concat([final_df, filtered[['study_name', 'config', 'trading_pair', 'max_drawdown_pct', 'executors_per_day', 'sharpe_ratio', 'volume_per_day', 'score']]])\n",
    "    return final_df\n",
    "\n",
    "# Call the function and pass the dataframe\n",
    "best_trials = get_best_trials(trials)\n",
    "best_trials"
   ],
   "outputs": [
    {
     "data": {
      "text/plain": [
       "            study_name                                             config  \\\n",
       "15   xgridt_2024-11-22  {'id': '3FP4CdaN54ZpNyQn3eeJVcU7zp9H991v3gQgMB...   \n",
       "19   xgridt_2024-11-22  {'id': '4ThfCTnaSkNP6kNMM5L2snrE8bqWSubk7RQLQo...   \n",
       "278  xgridt_2024-11-22  {'id': '9P2ntvX8N6ZukDhiMyPSqcvicESxFeSPD2D3Z2...   \n",
       "292  xgridt_2024-11-22  {'id': 'CVdSxGyiv5vaJESj8vM3fMAu96NGhNQA8q6jWy...   \n",
       "8    xgridt_2024-11-22  {'id': '6RNBgz3LuAp77wGvGBRt8KW7vPTMFABoMQ1TuU...   \n",
       "14   xgridt_2024-11-22  {'id': '5smjdVT4q1jbhNBsmssz8syhuFQF1BRN3hMFvQ...   \n",
       "276  xgridt_2024-11-22  {'id': '2iTToUk9kGfHdfstfYEyAb4mG3yKUwTLv2gBKo...   \n",
       "78   xgridt_2024-11-22  {'id': 'GXv3UFKkM6Nk953knZdd6fDojWx2Ns8eNUw1QZ...   \n",
       "161  xgridt_2024-11-22  {'id': 'Eb1Ws9eVCELUkAAmEdXeRhQVJGS8SpBWokdD8B...   \n",
       "112  xgridt_2024-11-22  {'id': 'C4tA8xNTFb7GcUpn6NiCVr6tFTxi8KLcFZNd52...   \n",
       "\n",
       "      trading_pair  max_drawdown_pct  executors_per_day  sharpe_ratio  \\\n",
       "15       PNUT-USDT        1.00184918         0.93066858    0.91698829   \n",
       "19       PNUT-USDT                 1         0.97096389    0.84454117   \n",
       "278  1000BONK-USDT        1.38612492         0.80391615    0.84482159   \n",
       "292  1000BONK-USDT        1.60411394         0.80112168             1   \n",
       "8    1000PEPE-USDT        1.02743659         0.46885592    0.81598079   \n",
       "14   1000PEPE-USDT                 1         0.55963024    0.50850434   \n",
       "276     HMSTR-USDT        1.09002635         0.53659322    0.76809898   \n",
       "78      HMSTR-USDT        1.16169089         0.60944526    0.64470361   \n",
       "161   MOODENG-USDT        1.18491373         0.45099412             1   \n",
       "112   MOODENG-USDT                 1         0.43339231    0.72183617   \n",
       "\n",
       "     volume_per_day      score  \n",
       "15         0.942927          1  \n",
       "19       0.97583731 0.99624638  \n",
       "278      0.86143862          1  \n",
       "292      0.81277762 0.96169484  \n",
       "8        0.55643989          1  \n",
       "14       0.69240183 0.95098021  \n",
       "276      0.65258653          1  \n",
       "78       0.69187722 0.94835246  \n",
       "161      0.54185844          1  \n",
       "112      0.53112257 0.80564665  "
      ],
      "text/html": [
       "<div>\n",
       "<style scoped>\n",
       "    .dataframe tbody tr th:only-of-type {\n",
       "        vertical-align: middle;\n",
       "    }\n",
       "\n",
       "    .dataframe tbody tr th {\n",
       "        vertical-align: top;\n",
       "    }\n",
       "\n",
       "    .dataframe thead th {\n",
       "        text-align: right;\n",
       "    }\n",
       "</style>\n",
       "<table border=\"1\" class=\"dataframe\">\n",
       "  <thead>\n",
       "    <tr style=\"text-align: right;\">\n",
       "      <th></th>\n",
       "      <th>study_name</th>\n",
       "      <th>config</th>\n",
       "      <th>trading_pair</th>\n",
       "      <th>max_drawdown_pct</th>\n",
       "      <th>executors_per_day</th>\n",
       "      <th>sharpe_ratio</th>\n",
       "      <th>volume_per_day</th>\n",
       "      <th>score</th>\n",
       "    </tr>\n",
       "  </thead>\n",
       "  <tbody>\n",
       "    <tr>\n",
       "      <th>15</th>\n",
       "      <td>xgridt_2024-11-22</td>\n",
       "      <td>{'id': '3FP4CdaN54ZpNyQn3eeJVcU7zp9H991v3gQgMB...</td>\n",
       "      <td>PNUT-USDT</td>\n",
       "      <td>1.00184918</td>\n",
       "      <td>0.93066858</td>\n",
       "      <td>0.91698829</td>\n",
       "      <td>0.942927</td>\n",
       "      <td>1</td>\n",
       "    </tr>\n",
       "    <tr>\n",
       "      <th>19</th>\n",
       "      <td>xgridt_2024-11-22</td>\n",
       "      <td>{'id': '4ThfCTnaSkNP6kNMM5L2snrE8bqWSubk7RQLQo...</td>\n",
       "      <td>PNUT-USDT</td>\n",
       "      <td>1</td>\n",
       "      <td>0.97096389</td>\n",
       "      <td>0.84454117</td>\n",
       "      <td>0.97583731</td>\n",
       "      <td>0.99624638</td>\n",
       "    </tr>\n",
       "    <tr>\n",
       "      <th>278</th>\n",
       "      <td>xgridt_2024-11-22</td>\n",
       "      <td>{'id': '9P2ntvX8N6ZukDhiMyPSqcvicESxFeSPD2D3Z2...</td>\n",
       "      <td>1000BONK-USDT</td>\n",
       "      <td>1.38612492</td>\n",
       "      <td>0.80391615</td>\n",
       "      <td>0.84482159</td>\n",
       "      <td>0.86143862</td>\n",
       "      <td>1</td>\n",
       "    </tr>\n",
       "    <tr>\n",
       "      <th>292</th>\n",
       "      <td>xgridt_2024-11-22</td>\n",
       "      <td>{'id': 'CVdSxGyiv5vaJESj8vM3fMAu96NGhNQA8q6jWy...</td>\n",
       "      <td>1000BONK-USDT</td>\n",
       "      <td>1.60411394</td>\n",
       "      <td>0.80112168</td>\n",
       "      <td>1</td>\n",
       "      <td>0.81277762</td>\n",
       "      <td>0.96169484</td>\n",
       "    </tr>\n",
       "    <tr>\n",
       "      <th>8</th>\n",
       "      <td>xgridt_2024-11-22</td>\n",
       "      <td>{'id': '6RNBgz3LuAp77wGvGBRt8KW7vPTMFABoMQ1TuU...</td>\n",
       "      <td>1000PEPE-USDT</td>\n",
       "      <td>1.02743659</td>\n",
       "      <td>0.46885592</td>\n",
       "      <td>0.81598079</td>\n",
       "      <td>0.55643989</td>\n",
       "      <td>1</td>\n",
       "    </tr>\n",
       "    <tr>\n",
       "      <th>14</th>\n",
       "      <td>xgridt_2024-11-22</td>\n",
       "      <td>{'id': '5smjdVT4q1jbhNBsmssz8syhuFQF1BRN3hMFvQ...</td>\n",
       "      <td>1000PEPE-USDT</td>\n",
       "      <td>1</td>\n",
       "      <td>0.55963024</td>\n",
       "      <td>0.50850434</td>\n",
       "      <td>0.69240183</td>\n",
       "      <td>0.95098021</td>\n",
       "    </tr>\n",
       "    <tr>\n",
       "      <th>276</th>\n",
       "      <td>xgridt_2024-11-22</td>\n",
       "      <td>{'id': '2iTToUk9kGfHdfstfYEyAb4mG3yKUwTLv2gBKo...</td>\n",
       "      <td>HMSTR-USDT</td>\n",
       "      <td>1.09002635</td>\n",
       "      <td>0.53659322</td>\n",
       "      <td>0.76809898</td>\n",
       "      <td>0.65258653</td>\n",
       "      <td>1</td>\n",
       "    </tr>\n",
       "    <tr>\n",
       "      <th>78</th>\n",
       "      <td>xgridt_2024-11-22</td>\n",
       "      <td>{'id': 'GXv3UFKkM6Nk953knZdd6fDojWx2Ns8eNUw1QZ...</td>\n",
       "      <td>HMSTR-USDT</td>\n",
       "      <td>1.16169089</td>\n",
       "      <td>0.60944526</td>\n",
       "      <td>0.64470361</td>\n",
       "      <td>0.69187722</td>\n",
       "      <td>0.94835246</td>\n",
       "    </tr>\n",
       "    <tr>\n",
       "      <th>161</th>\n",
       "      <td>xgridt_2024-11-22</td>\n",
       "      <td>{'id': 'Eb1Ws9eVCELUkAAmEdXeRhQVJGS8SpBWokdD8B...</td>\n",
       "      <td>MOODENG-USDT</td>\n",
       "      <td>1.18491373</td>\n",
       "      <td>0.45099412</td>\n",
       "      <td>1</td>\n",
       "      <td>0.54185844</td>\n",
       "      <td>1</td>\n",
       "    </tr>\n",
       "    <tr>\n",
       "      <th>112</th>\n",
       "      <td>xgridt_2024-11-22</td>\n",
       "      <td>{'id': 'C4tA8xNTFb7GcUpn6NiCVr6tFTxi8KLcFZNd52...</td>\n",
       "      <td>MOODENG-USDT</td>\n",
       "      <td>1</td>\n",
       "      <td>0.43339231</td>\n",
       "      <td>0.72183617</td>\n",
       "      <td>0.53112257</td>\n",
       "      <td>0.80564665</td>\n",
       "    </tr>\n",
       "  </tbody>\n",
       "</table>\n",
       "</div>"
      ]
     },
     "execution_count": 12,
     "metadata": {},
     "output_type": "execute_result"
    }
   ],
   "execution_count": 12
  },
  {
   "cell_type": "code",
   "metadata": {
    "collapsed": false,
    "ExecuteTime": {
     "end_time": "2024-11-22T22:52:32.016060Z",
     "start_time": "2024-11-22T22:52:32.012824Z"
    }
   },
   "source": [
    "import json\n",
    "from core.services.backend_api_client import BackendAPIClient\n",
    "\n",
    "configs = []\n",
    "for index, row in best_trials.iterrows():\n",
    "    config = row[\"config\"]\n",
    "    config[\"natr_length\"] = 100\n",
    "    config[\"leverage\"] = 50\n",
    "    config[\"controller_type\"] = \"generic\"\n",
    "    config[\"id\"] = row[\"study_name\"] + \"_\" + row[\"trading_pair\"] + \"_\" + str(index)\n",
    "    config[\"prominence_pct_peaks\"] = 0.05\n",
    "    config[\"distance_between_peaks\"] = 100\n",
    "    config[\"executor_activation_bounds\"] = 0.001\n",
    "    config[\"general_activation_bounds\"] = 0.005\n",
    "    config[\"max_ranges_by_signal\"] = 1\n",
    "    config[\"min_spread_between_orders\"] = 0.0008\n",
    "    config[\"min_order_amount\"] = 2\n",
    "    config[\"max_open_orders\"] = 3\n",
    "    config[\"max_orders_per_batch\"] = 2\n",
    "    config[\"order_frequency\"] = 7\n",
    "    config[\"close_position_on_signal_change\"] = True\n",
    "    config[\"grid_update_interval\"] = None\n",
    "    config[\"take_profit_mode\"] = \"original\"\n",
    "    config[\"take_profit_step_multiplier\"] = 1\n",
    "    config[\"global_stop_loss\"] = 0.1\n",
    "    # config.pop(\"cooldown_time\")\n",
    "    # config.pop(\"stop_loss\")\n",
    "    # config.pop(\"max_executors_per_side\")\n",
    "    # config.pop(\"take_profit\")\n",
    "    # config.pop(\"take_profit_order_type\")\n",
    "    # config.pop(\"trailing_stop\")\n",
    "    # config.pop(\"candles_config\")\n",
    "    configs.append(row[\"config\"])"
   ],
   "outputs": [],
   "execution_count": 31
  },
  {
   "metadata": {
    "ExecuteTime": {
     "end_time": "2024-11-22T22:52:32.613292Z",
     "start_time": "2024-11-22T22:52:32.610616Z"
    }
   },
   "cell_type": "code",
   "source": [
    "from core.utils import dump_dict_to_yaml\n",
    "\n",
    "dump_dict_to_yaml(configs[0])"
   ],
   "outputs": [],
   "execution_count": 32
  },
  {
   "cell_type": "code",
   "execution_count": 28,
   "metadata": {},
   "outputs": [
    {
     "name": "stdout",
     "output_type": "stream",
     "text": [
      "[{'id': 'xtreet-bb-binance-perpetual-1m-1000BONK-USDT-bb50-1.0-sl20.0-ts20.0-30.0', 'controller_name': 'xtreet_bb', 'controller_type': 'directional_trading', 'total_amount_quote': 100, 'manual_kill_switch': None, 'candles_config': [{'connector': 'binance_perpetual', 'trading_pair': '1000BONK-USDT', 'interval': '1m', 'max_records': 70}], 'connector_name': 'binance_perpetual', 'trading_pair': '1000BONK-USDT', 'max_executors_per_side': 1, 'cooldown_time': 0, 'leverage': 20, 'position_mode': 'HEDGE', 'stop_loss': 0.2, 'take_profit': 0.02, 'time_limit': None, 'take_profit_order_type': 2, 'trailing_stop': {'activation_price': 0.2, 'trailing_delta': 0.3}, 'candles_connector': 'binance_perpetual', 'candles_trading_pair': '1000BONK-USDT', 'interval': '1m', 'bb_length': 50, 'bb_std': 1.0, 'bb_long_threshold': 0.0, 'bb_short_threshold': 1.0, 'dca_spreads': [-1e-08, 0.6000000000000001], 'dca_amounts_pct': [1, 1.0], 'dynamic_order_spread': True, 'dynamic_target': True, 'min_stop_loss': 0.003, 'max_stop_loss': 0.1, 'min_trailing_stop': 0.003, 'max_trailing_stop': 0.03, 'min_distance_between_orders': 0.004, 'activation_bounds': None}, {'id': 'xtreet-bb-binance-perpetual-1m-1000BONK-USDT-bb50-1.5-sl80.0-ts20.0-60.0', 'controller_name': 'xtreet_bb', 'controller_type': 'directional_trading', 'total_amount_quote': 100, 'manual_kill_switch': None, 'candles_config': [{'connector': 'binance_perpetual', 'trading_pair': '1000BONK-USDT', 'interval': '1m', 'max_records': 70}], 'connector_name': 'binance_perpetual', 'trading_pair': '1000BONK-USDT', 'max_executors_per_side': 1, 'cooldown_time': 0, 'leverage': 20, 'position_mode': 'HEDGE', 'stop_loss': 0.8, 'take_profit': 0.02, 'time_limit': 7200, 'take_profit_order_type': 2, 'trailing_stop': {'activation_price': 0.2, 'trailing_delta': 0.6}, 'candles_connector': 'binance_perpetual', 'candles_trading_pair': '1000BONK-USDT', 'interval': '1m', 'bb_length': 50, 'bb_std': 1.5, 'bb_long_threshold': 0.0, 'bb_short_threshold': 1.0, 'dca_spreads': [-1e-08, 0.4], 'dca_amounts_pct': [1, 2.0], 'dynamic_order_spread': True, 'dynamic_target': True, 'min_stop_loss': 0.007, 'max_stop_loss': 0.1, 'min_trailing_stop': 0.004, 'max_trailing_stop': 0.03, 'min_distance_between_orders': 0.004, 'activation_bounds': None}]\n",
      "['xtreet-bb-binance-perpetual-1m-1000BONK-USDT-bb50-1.0-sl20.0-ts20.0-30.0.yml', 'xtreet-bb-binance-perpetual-1m-1000BONK-USDT-bb50-1.5-sl80.0-ts20.0-60.0.yml']\n"
     ]
    }
   ],
   "source": [
    "configs = best_trials[\"config\"].tolist()\n",
    "for config in configs:\n",
    "    config[\"total_amount_quote\"] = 100\n",
    "    config[\"id\"] = config[\"id\"].replace(\"_\", \"-\")\n",
    "\n",
    "print(configs)\n",
    "config_ids = [config[\"id\"] + \".yml\" for config in configs]\n",
    "print(config_ids)"
   ]
  },
  {
   "cell_type": "code",
   "execution_count": 29,
   "metadata": {},
   "outputs": [],
   "source": [
    "client = BackendAPIClient(\n",
    "    host=\"localhost\",\n",
    "    port=8000,\n",
    ")\n",
    "for config in configs:\n",
    "    await client.add_controller_config(config)\n"
   ]
  },
  {
   "cell_type": "code",
   "execution_count": 30,
   "metadata": {},
   "outputs": [],
   "source": [
    "await client.deploy_script_with_controllers(\n",
    "        bot_name=\"test_1\",\n",
    "        controller_configs=config_ids,\n",
    "        image_name=\"dardonacci/hummingbot:latest\",\n",
    "        max_global_drawdown=50,\n",
    "        max_controller_drawdown=20,\n",
    "    )"
   ]
  },
  {
   "cell_type": "code",
   "execution_count": null,
   "metadata": {},
   "outputs": [],
   "source": []
  }
 ],
 "metadata": {
  "kernelspec": {
   "display_name": "Python 3",
   "language": "python",
   "name": "python3"
  },
  "language_info": {
   "codemirror_mode": {
    "name": "ipython",
    "version": 3
   },
   "file_extension": ".py",
   "mimetype": "text/x-python",
   "name": "python",
   "nbconvert_exporter": "python",
   "pygments_lexer": "ipython3",
   "version": "3.10.15"
  }
 },
 "nbformat": 4,
 "nbformat_minor": 0
}
