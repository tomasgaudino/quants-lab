{
 "cells": [
  {
   "cell_type": "code",
   "execution_count": null,
   "metadata": {
    "ExecuteTime": {
     "end_time": "2024-11-22T22:37:23.815405Z",
     "start_time": "2024-11-22T22:37:23.812185Z"
    },
    "collapsed": false
   },
   "outputs": [],
   "source": [
    "import os\n",
    "import sys\n",
    "import pandas as pd\n",
    "\n",
    "root_path = os.path.abspath(os.path.join(os.getcwd(), '../..'))\n",
    "sys.path.append(root_path)\n",
    "\n",
    "max_drawdown_global = 0\n",
    "max_drawdown_controller = 0\n",
    "hb_image = \"dardonacci/hummingbot:latest\"\n",
    "credentials = \"master_account\"\n",
    "controller_id_list = [\"94et2aiooxBhYQ9iLMPmsNABjV5b2hCQo1ZTo9XzLv6w\", \"3Dgvw7vgZX4Hjdea3oqWuFQEpUERwAUpiYyxAQk5z5Ey\"]\n",
    "bot_name = \"macd_mt_28_nov\"\n",
    "days_to_cash_out = 3\n",
    "deployment_host = \"localhost\"\n"
   ]
  },
  {
   "cell_type": "code",
   "execution_count": 28,
   "metadata": {
    "ExecuteTime": {
     "end_time": "2024-11-22T22:38:05.842926Z",
     "start_time": "2024-11-22T22:38:05.183534Z"
    },
    "collapsed": false
   },
   "outputs": [
    {
     "name": "stdout",
     "output_type": "stream",
     "text": [
      "2\n",
      "18    {'id': '3Dgvw7vgZX4Hjdea3oqWuFQEpUERwAUpiYyxAQ...\n",
      "21    {'id': '94et2aiooxBhYQ9iLMPmsNABjV5b2hCQo1ZTo9...\n",
      "Name: config, dtype: object\n"
     ]
    }
   ],
   "source": [
    "from core.backtesting.optimizer import StrategyOptimizer\n",
    "from core.services.backend_api_client import BackendAPIClient\n",
    "\n",
    "import json\n",
    "from core.utils import dump_dict_to_yaml\n",
    "\n",
    "\n",
    "\n",
    "def preprocess_trials_df(trials_df):\n",
    "    df = trials_df.copy()\n",
    "    df.columns = [col.replace(\"params_\", \"\") if col.startswith(\"params_\") else col for col in df.columns]\n",
    "    df[\"executors\"] = df[\"executors\"].apply(lambda x: json.loads(x))\n",
    "    df[\"config\"] = df[\"config\"].apply(lambda x: json.loads(x))\n",
    "    df[\"trading_pair\"] = df[\"config\"].apply(lambda x: x['trading_pair'])\n",
    "    df[\"from_timestamp\"] = df[\"executors\"].apply(\n",
    "        lambda x: pd.to_datetime(pd.Series(x[\"timestamp\"].values()).min(), unit=\"s\"))\n",
    "    df[\"to_timestamp\"] = df[\"executors\"].apply(\n",
    "        lambda x: pd.to_datetime(pd.Series(x[\"close_timestamp\"].values()).max(), unit=\"s\"))\n",
    "    return df\n",
    "\n",
    "\n",
    "optimizer = StrategyOptimizer(root_path=root_path)\n",
    "client = BackendAPIClient(\n",
    "    host=deployment_host,\n",
    "    port=8000,\n",
    ")\n",
    "\n",
    "all_studies = optimizer.get_all_study_names()\n",
    "dfs = []\n",
    "for study_name in all_studies:\n",
    "    trials_df = optimizer.get_study_trials_df(study_name)\n",
    "    trials_df[\"study_name\"] = study_name\n",
    "    dfs.append(trials_df)\n",
    "\n",
    "trials = pd.concat(dfs)\n",
    "trials = preprocess_trials_df(trials)\n",
    "trials['from_timestamp'] = pd.to_datetime(trials['from_timestamp'])\n",
    "trials['to_timestamp'] = pd.to_datetime(trials['to_timestamp'])\n",
    "trials['days_diff'] = (trials['to_timestamp'] - trials['from_timestamp']).dt.total_seconds() / 86400\n",
    "trials['executors_per_day'] = trials['total_executors'] / trials['days_diff']\n",
    "trials['volume_per_day'] = trials['total_volume'] / trials['days_diff']\n",
    "trials.drop_duplicates(subset=[\"config\"], inplace=True)\n",
    "configs = trials[\"config\"]\n",
    "filtered_configs = configs[configs.apply(lambda x: x['id'] in controller_id_list)]\n",
    "print(len(filtered_configs))\n",
    "print(filtered_configs)\n"
   ]
  },
  {
   "cell_type": "code",
   "execution_count": 29,
   "metadata": {},
   "outputs": [],
   "source": [
    "config_list = filtered_configs.tolist()\n",
    "for config in config_list:\n",
    "    await client.add_controller_config(config)\n",
    "config_ids = [config[\"id\"] + \".yml\" for config in config_list]\n",
    "\n",
    "await client.deploy_script_with_controllers(\n",
    "        bot_name=bot_name,\n",
    "        controller_configs=config_ids,\n",
    "        image_name=hb_image,\n",
    "        credentials=credentials,\n",
    "        time_to_cash_out=days_to_cash_out*86400,\n",
    "        max_global_drawdown=max_drawdown_global,\n",
    "        max_controller_drawdown=max_drawdown_controller,\n",
    "    )"
   ]
  }
 ],
 "metadata": {
  "kernelspec": {
   "display_name": "quants-lab",
   "language": "python",
   "name": "python3"
  },
  "language_info": {
   "codemirror_mode": {
    "name": "ipython",
    "version": 3
   },
   "file_extension": ".py",
   "mimetype": "text/x-python",
   "name": "python",
   "nbconvert_exporter": "python",
   "pygments_lexer": "ipython3",
   "version": "3.10.15"
  }
 },
 "nbformat": 4,
 "nbformat_minor": 0
}
