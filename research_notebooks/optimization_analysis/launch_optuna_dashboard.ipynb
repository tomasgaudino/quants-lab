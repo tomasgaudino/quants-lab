{
 "cells": [
  {
   "cell_type": "code",
   "id": "initial_id",
   "metadata": {
    "collapsed": true,
    "ExecuteTime": {
     "end_time": "2024-11-22T22:06:43.099856Z",
     "start_time": "2024-11-22T22:06:42.884810Z"
    }
   },
   "source": [
    "import os\n",
    "import sys\n",
    "\n",
    "import pandas as pd\n",
    "\n",
    "root_path = os.path.abspath(os.path.join(os.getcwd(), '../..'))\n",
    "sys.path.append(root_path)"
   ],
   "outputs": [],
   "execution_count": 1
  },
  {
   "cell_type": "code",
   "id": "a69cbc68068bd2f5",
   "metadata": {
    "ExecuteTime": {
     "end_time": "2024-11-22T22:06:44.107444Z",
     "start_time": "2024-11-22T22:06:43.140487Z"
    }
   },
   "source": [
    "from core.backtesting.optimizer import StrategyOptimizer\n",
    "\n",
    "optimizer = StrategyOptimizer(root_path=root_path)\n",
    "optimizer.launch_optuna_dashboard()"
   ],
   "outputs": [
    {
     "name": "stderr",
     "output_type": "stream",
     "text": [
      "WARNING: All log messages before absl::InitializeLog() is called are written to STDERR\n",
      "I0000 00:00:1732313204.096799 1665583 fork_posix.cc:75] Other threads are currently calling into gRPC, skipping fork() handlers\n"
     ]
    }
   ],
   "execution_count": 2
  },
  {
   "cell_type": "code",
   "execution_count": 8,
   "id": "6ffa123131b74efb",
   "metadata": {
    "ExecuteTime": {
     "end_time": "2024-11-20T22:53:05.812747Z",
     "start_time": "2024-11-20T22:53:05.810472Z"
    }
   },
   "outputs": [
    {
     "data": {
      "text/plain": [
       "'/Users/dman/Documents/code/quants-lab'"
      ]
     },
     "execution_count": 8,
     "metadata": {},
     "output_type": "execute_result"
    }
   ],
   "source": [
    "root_path"
   ]
  },
  {
   "cell_type": "code",
   "execution_count": null,
   "id": "c72e2e8b4603c835",
   "metadata": {},
   "outputs": [],
   "source": []
  }
 ],
 "metadata": {
  "kernelspec": {
   "display_name": "Python 3",
   "language": "python",
   "name": "python3"
  },
  "language_info": {
   "codemirror_mode": {
    "name": "ipython",
    "version": 3
   },
   "file_extension": ".py",
   "mimetype": "text/x-python",
   "name": "python",
   "nbconvert_exporter": "python",
   "pygments_lexer": "ipython3",
   "version": "3.10.15"
  }
 },
 "nbformat": 4,
 "nbformat_minor": 5
}
