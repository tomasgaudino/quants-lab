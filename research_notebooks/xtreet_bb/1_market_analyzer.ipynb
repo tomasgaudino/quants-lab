{
 "cells": [
  {
   "metadata": {},
   "cell_type": "markdown",
   "source": "## Initialize the environment and get screener configuration"
  },
  {
   "cell_type": "code",
   "metadata": {
    "collapsed": false,
    "jupyter": {
     "outputs_hidden": false
    }
   },
   "source": [
    "# This is necessary to recognize the modules\n",
    "import os\n",
    "import sys\n",
    "from decimal import Decimal\n",
    "\n",
    "root_path = os.path.abspath(os.path.join(os.getcwd(), '../..'))\n",
    "sys.path.append(root_path)\n",
    "\n",
    "from core.data_sources import CLOBDataSource\n",
    "from core.features.candles.volatility import VolatilityConfig\n",
    "from core.features.candles.volume import VolumeConfig\n",
    "\n",
    "from research_notebooks.xtreet_bb.utils import generate_config, dump_dict_to_yaml, read_yaml_to_dict, fetch_candles, generate_screener_report\n",
    "\n",
    "clob = CLOBDataSource()\n",
    "screener_config_name = \"okx_perpetual.yml\"\n",
    "screener_config_path = os.path.join(root_path, \"research_notebooks\", \"xtreet_bb\", \"screener_configs\", screener_config_name)\n",
    "screener_config = read_yaml_to_dict(screener_config_path)\n",
    "screener_config"
   ],
   "outputs": [],
   "execution_count": null
  },
  {
   "cell_type": "code",
   "metadata": {
    "collapsed": false,
    "jupyter": {
     "outputs_hidden": false
    }
   },
   "source": [
    "# Screener parameters\n",
    "CONNECTOR_NAME = screener_config[\"screener_params\"][\"connector_name\"]\n",
    "INTERVALS = screener_config[\"screener_params\"][\"intervals\"]\n",
    "DAYS = screener_config[\"screener_params\"][\"days_to_download\"]\n",
    "FETCH_CANDLES = screener_config[\"screener_params\"][\"download_candles\"]\n",
    "BATCH_CANDLES_REQUEST = screener_config[\"screener_params\"][\"batch_candles_request\"]\n",
    "SLEEP_REQUEST = screener_config[\"screener_params\"][\"sleep_request\"]\n",
    "FROM_TRADES = screener_config[\"screener_params\"][\"from_trades\"]\n",
    "VOLUME_THRESHOLD = screener_config[\"screener_params\"][\"volume_threshold\"]  # From percentile VOLUME_THRESHOLD to 1\n",
    "VOLATILITY_THRESHOLD = screener_config[\"screener_params\"][\"volatility_threshold\"]  # From percentile VOLATILITY_THRESHOLD to 1\n",
    "MAX_TOP_MARKETS = screener_config[\"screener_params\"][\"max_top_markets\"]\n",
    "\n",
    "# Trading Rules Filter\n",
    "QUOTE_ASSET = screener_config[\"trading_rules_filter\"][\"quote_asset\"]\n",
    "MIN_NOTIONAL_SIZE = screener_config[\"trading_rules_filter\"][\"min_notional_size\"]  # In USDT\n",
    "MAX_PRICE_STEP = screener_config[\"trading_rules_filter\"][\"max_price_step\"]  # Min price step in % (tick size)\n",
    "\n",
    "VOLATILITY_WINDOW = screener_config[\"trading_rules_filter\"][\"volatility_window\"]  # In bars\n",
    "VOLUME_FAST_WINDOW = screener_config[\"trading_rules_filter\"][\"volume_fast_window\"]  # No se usa\n",
    "VOLUME_SLOW_WINDOW = screener_config[\"trading_rules_filter\"][\"volume_slow_window\"]  # No se usa\n",
    "\n",
    "# Config generation\n",
    "TOTAL_AMOUNT = screener_config[\"config_generation\"][\"total_amount\"]  # General total amount for all markets\n",
    "ACTIVATION_BOUNDS = screener_config[\"config_generation\"][\"activation_bounds\"]  # Input activation bounds\n",
    "MAX_EXECUTORS_PER_SIDE = screener_config[\"config_generation\"][\"max_executors_per_side\"]  # Maximum number of executors per side\n",
    "COOLDOWN_TIME = screener_config[\"config_generation\"][\"cooldown_time\"]\n",
    "LEVERAGE = screener_config[\"config_generation\"][\"leverage\"] # Should be for each trading pair\n",
    "TIME_LIMIT = screener_config[\"config_generation\"][\"time_limit\"]\n",
    "BOLLINGER_LENGTHS = screener_config[\"config_generation\"][\"bollinger_lengths\"]\n",
    "BOLLINGER_STDS = screener_config[\"config_generation\"][\"bollinger_stds\"]\n",
    "SL_STD_MULTIPLIER = screener_config[\"config_generation\"][\"sl_std_multiplier\"]\n",
    "TS_DELTA_MULTIPLIER = screener_config[\"config_generation\"][\"ts_delta_multiplier\"]\n",
    "MAX_DCA_AMOUNT_RATIO = screener_config[\"config_generation\"][\"max_dca_amount_ratio\"] # Amount 2 / Amount 1\n",
    "\n",
    "\n",
    "# Config filtering\n",
    "MIN_DISTANCE_BETWEEN_ORDERS = screener_config[\"config_filtering\"][\"min_distance_between_orders\"]\n",
    "MAX_TS_SL_RATIO = screener_config[\"config_filtering\"][\"max_ts_sl_ratio\"]"
   ],
   "outputs": [],
   "execution_count": null
  },
  {
   "cell_type": "markdown",
   "metadata": {
    "collapsed": false,
    "jupyter": {
     "outputs_hidden": false
    }
   },
   "source": [
    "## Download data\n",
    "- Get trading rules\n",
    "- Get candles for the last x days"
   ]
  },
  {
   "cell_type": "code",
   "source": [
    "trading_rules = await clob.get_trading_rules(CONNECTOR_NAME)\n",
    "\n",
    "trading_pairs = trading_rules.filter_by_quote_asset(QUOTE_ASSET)\\\n",
    "    .filter_by_min_notional_size(Decimal(MIN_NOTIONAL_SIZE))\\\n",
    "    .get_all_trading_pairs()\n",
    "\n",
    "candles = await fetch_candles(download_candles=FETCH_CANDLES,\n",
    "                              trading_pairs=trading_pairs,\n",
    "                              batch_candles_request=BATCH_CANDLES_REQUEST,\n",
    "                              clob=clob,\n",
    "                              connector_name=CONNECTOR_NAME,\n",
    "                              root_path=root_path,\n",
    "                              intervals=INTERVALS,\n",
    "                              days_to_download=DAYS,\n",
    "                              sleep_request=SLEEP_REQUEST,\n",
    "                              from_trades=FROM_TRADES)\n"
   ],
   "metadata": {
    "collapsed": false
   },
   "outputs": [],
   "execution_count": null
  },
  {
   "metadata": {},
   "cell_type": "markdown",
   "source": "## Generate screener report and filter out the top markets"
  },
  {
   "cell_type": "code",
   "source": [
    "screener_report = generate_screener_report(\n",
    "    candles=candles,\n",
    "    trading_rules=trading_rules,\n",
    "    volatility_config=VolatilityConfig(window=VOLATILITY_WINDOW),\n",
    "    volume_config=VolumeConfig(short_window=VOLUME_FAST_WINDOW, long_window=VOLUME_FAST_WINDOW))\n",
    "\n",
    "screener_report.sort_values(\"mean_natr\", ascending=False, inplace=True)\n",
    "\n",
    "# Calculate the 20th percentile (0.2 quantile) for both columns\n",
    "natr_percentile = screener_report['mean_natr'].quantile(VOLATILITY_THRESHOLD)\n",
    "volume_percentile = screener_report['average_volume_per_hour'].quantile(VOLUME_THRESHOLD)\n",
    "\n",
    "# Filter the DataFrame to get observations where mean_natr is greater than its 20th percentile\n",
    "# and average_volume_per_hour is greater than its 20th percentile\n",
    "max_top_markets = min(MAX_TOP_MARKETS, screener_report.shape[0])\n",
    "screener_top_markets = screener_report[\n",
    "    (screener_report['mean_natr'] > natr_percentile) &\n",
    "    (screener_report['average_volume_per_hour'] > volume_percentile) &\n",
    "    (screener_report[\"price_step_pct\"] < MAX_PRICE_STEP)\n",
    "].sort_values(by=\"average_volume_per_hour\").head(MAX_TOP_MARKETS)\n",
    "\n",
    "# Display the filtered DataFrame\n",
    "screener_top_markets[[\"trading_pair\", \"mean_natr\", \"average_volume_per_hour\", \"price_step_pct\"]]"
   ],
   "metadata": {
    "collapsed": false
   },
   "outputs": [],
   "execution_count": null
  },
  {
   "metadata": {},
   "cell_type": "markdown",
   "source": "## Generate strategy configurations"
  },
  {
   "cell_type": "code",
   "metadata": {
    "collapsed": false,
    "jupyter": {
     "outputs_hidden": false
    }
   },
   "source": [
    "strategy_configs = generate_config(\n",
    "    connector_name=CONNECTOR_NAME,\n",
    "    intervals=INTERVALS,\n",
    "    screener_top_markets=screener_top_markets,\n",
    "    candles=candles,\n",
    "    total_amount=TOTAL_AMOUNT,\n",
    "    max_executors_per_side=MAX_EXECUTORS_PER_SIDE,\n",
    "    cooldown_time=COOLDOWN_TIME,\n",
    "    leverage=LEVERAGE,\n",
    "    time_limit=TIME_LIMIT,\n",
    "    bb_lengths=BOLLINGER_LENGTHS,\n",
    "    bb_stds=BOLLINGER_STDS,\n",
    "    sl_std_multiplier=SL_STD_MULTIPLIER,\n",
    "    min_distance_between_orders=MIN_DISTANCE_BETWEEN_ORDERS,\n",
    "    max_ts_sl_ratio=MAX_TS_SL_RATIO,\n",
    "    ts_delta_multiplier=TS_DELTA_MULTIPLIER,\n",
    "    max_dca_amount_ratio=MAX_DCA_AMOUNT_RATIO\n",
    ")\n",
    "n_trading_pairs = len(set([config[\"trading_pair\"] for config in strategy_configs]))\n",
    "n_configs = len(strategy_configs)\n",
    "print(f\"Generated {n_configs} configurations for {n_trading_pairs} trading pairs\")"
   ],
   "outputs": [],
   "execution_count": null
  },
  {
   "cell_type": "code",
   "source": [
    "for config in strategy_configs:\n",
    "    dump_dict_to_yaml(\"configs/\", config)"
   ],
   "metadata": {
    "collapsed": false
   },
   "outputs": [],
   "execution_count": null
  },
  {
   "cell_type": "code",
   "source": [],
   "metadata": {
    "collapsed": false
   },
   "outputs": [],
   "execution_count": null
  }
 ],
 "metadata": {
  "kernelspec": {
   "display_name": "Python 3 (ipykernel)",
   "language": "python",
   "name": "python3"
  },
  "language_info": {
   "codemirror_mode": {
    "name": "ipython",
    "version": 3
   },
   "file_extension": ".py",
   "mimetype": "text/x-python",
   "name": "python",
   "nbconvert_exporter": "python",
   "pygments_lexer": "ipython3",
   "version": "3.10.14"
  }
 },
 "nbformat": 4,
 "nbformat_minor": 4
}
