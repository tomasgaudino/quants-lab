{
 "cells": [
  {
   "metadata": {},
   "cell_type": "markdown",
   "source": "### Automated Tasks Notebook",
   "id": "ac39bea2c20fd746"
  },
  {
   "metadata": {
    "ExecuteTime": {
     "end_time": "2024-09-20T01:11:11.613149Z",
     "start_time": "2024-09-20T01:11:11.604591Z"
    }
   },
   "cell_type": "code",
   "source": [
    "import os\n",
    "import sys\n",
    "\n",
    "\n",
    "root_path = os.path.abspath(os.path.join(os.getcwd(), '../..'))\n",
    "sys.path.append(root_path)\n",
    "\n",
    "\n",
    "from services.py_script_controller import PyScriptController\n",
    "\n",
    "\n",
    "SCRIPT_NAME = \"trades_downloader.py\"\n",
    "USE_CRON = False\n",
    "CRON_CONFIG = {\n",
    "    \"minute\": \"0\",\n",
    "    \"hour\": \"3\",\n",
    "    \"day_of_month\": \"*\",\n",
    "    \"month\": \"*\",\n",
    "    \"day_of_week\": \"*\"\n",
    "}"
   ],
   "id": "ef5c4f61c97379e4",
   "outputs": [],
   "execution_count": 1
  },
  {
   "metadata": {
    "ExecuteTime": {
     "end_time": "2024-09-20T01:11:11.918191Z",
     "start_time": "2024-09-20T01:11:11.843351Z"
    }
   },
   "cell_type": "code",
   "source": [
    "py_controller = PyScriptController(SCRIPT_NAME)\n",
    "\n",
    "py_controller.remove_cron()\n",
    "if USE_CRON:\n",
    "    py_controller.add_cron(**CRON_CONFIG)\n",
    "    py_controller.list_cron()\n",
    "else:\n",
    "    py_controller.trigger()"
   ],
   "id": "ec700f6ae1cc2aac",
   "outputs": [
    {
     "name": "stdout",
     "output_type": "stream",
     "text": [
      "No cron job found for trades_downloader.py.\n",
      "Script trades_downloader.py is not running.\n",
      "Starting script trades_downloader.py...\n",
      "Script trades_downloader.py is running with PID 471131. Command line: python3 trades_downloader.py\n",
      "Script trades_downloader.py started with PID 471131.\n"
     ]
    }
   ],
   "execution_count": 2
  },
  {
   "metadata": {},
   "cell_type": "code",
   "outputs": [],
   "execution_count": null,
   "source": "",
   "id": "56f06a24b114be24"
  },
  {
   "metadata": {},
   "cell_type": "code",
   "outputs": [],
   "execution_count": null,
   "source": "",
   "id": "6c589ac9a3d54996"
  },
  {
   "metadata": {
    "ExecuteTime": {
     "end_time": "2024-09-20T00:57:13.779033Z",
     "start_time": "2024-09-20T00:57:13.775558Z"
    }
   },
   "cell_type": "code",
   "source": "",
   "id": "338b9e161fb183bd",
   "outputs": [
    {
     "name": "stdout",
     "output_type": "stream",
     "text": [
      "No cron job found for trades_downloader.py.\n"
     ]
    }
   ],
   "execution_count": 5
  },
  {
   "metadata": {},
   "cell_type": "code",
   "outputs": [],
   "execution_count": null,
   "source": "",
   "id": "cd42ec4c7ea7a25b"
  }
 ],
 "metadata": {
  "kernelspec": {
   "display_name": "Python 3",
   "language": "python",
   "name": "python3"
  },
  "language_info": {
   "codemirror_mode": {
    "name": "ipython",
    "version": 2
   },
   "file_extension": ".py",
   "mimetype": "text/x-python",
   "name": "python",
   "nbconvert_exporter": "python",
   "pygments_lexer": "ipython2",
   "version": "2.7.6"
  }
 },
 "nbformat": 4,
 "nbformat_minor": 5
}
