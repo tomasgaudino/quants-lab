{
 "cells": [
  {
   "cell_type": "code",
   "execution_count": 1,
   "metadata": {
    "ExecuteTime": {
     "end_time": "2024-11-20T22:32:53.291369Z",
     "start_time": "2024-11-20T22:32:53.288112Z"
    },
    "collapsed": false,
    "jupyter": {
     "outputs_hidden": false
    }
   },
   "outputs": [],
   "source": [
    "# This is necessary to recognize the modules\n",
    "import os\n",
    "import sys\n",
    "from decimal import Decimal\n",
    "import warnings\n",
    "\n",
    "warnings.filterwarnings(\"ignore\")\n",
    "\n",
    "root_path = os.path.abspath(os.path.join(os.getcwd(), '../..'))\n",
    "sys.path.append(root_path)"
   ]
  },
  {
   "cell_type": "code",
   "execution_count": 2,
   "metadata": {
    "ExecuteTime": {
     "end_time": "2024-11-20T22:33:00.478482Z",
     "start_time": "2024-11-20T22:33:00.402229Z"
    },
    "collapsed": false,
    "jupyter": {
     "outputs_hidden": false
    }
   },
   "outputs": [],
   "source": [
    "from core.data_sources.clob import CLOBDataSource\n",
    "\n",
    "# Get trading rules and candles\n",
    "clob = CLOBDataSource()"
   ]
  },
  {
   "cell_type": "code",
   "execution_count": 3,
   "metadata": {
    "ExecuteTime": {
     "end_time": "2024-11-20T22:33:12.865600Z",
     "start_time": "2024-11-20T22:33:12.862665Z"
    },
    "collapsed": false,
    "jupyter": {
     "outputs_hidden": false
    }
   },
   "outputs": [],
   "source": [
    "# Constants\n",
    "CONNECTOR_NAME = \"binance_perpetual\"\n",
    "INTERVALS = [\"1m\"]\n",
    "trading_pairs = ['1000SHIB-USDT', 'WLD-USDT', 'ACT-USDT', '1000BONK-USDT', 'DOGE-USDT', 'AGLD-USDT',\n",
    "                 'SUI-USDT', '1000SATS-USDT', 'MOODENG-USDT', 'NEIRO-USDT', 'HBAR-USDT', 'ENA-USDT',\n",
    "                 'HMSTR-USDT', 'TROY-USDT', '1000PEPE-USDT', '1000X-USDT', 'PNUT-USDT', 'SOL-USDT',\n",
    "                 'XRP-USDT']\n",
    "DAYS = 30"
   ]
  },
  {
   "cell_type": "markdown",
   "metadata": {
    "collapsed": false,
    "jupyter": {
     "outputs_hidden": false
    }
   },
   "source": [
    "# Download data\n",
    "- Get trading rules\n",
    "- Get candles for the last x days"
   ]
  },
  {
   "cell_type": "code",
   "execution_count": 4,
   "metadata": {
    "ExecuteTime": {
     "end_time": "2024-11-20T22:33:40.276921Z",
     "start_time": "2024-11-20T22:33:15.262493Z"
    },
    "collapsed": false
   },
   "outputs": [
    {
     "name": "stdout",
     "output_type": "stream",
     "text": [
      "Batch 1/2\n",
      "Start: 0, End: 10\n"
     ]
    },
    {
     "name": "stderr",
     "output_type": "stream",
     "text": [
      "2024-11-22 18:33:47,950 - asyncio - ERROR - Unclosed client session\n",
      "client_session: <aiohttp.client.ClientSession object at 0x312fa0400>\n",
      "2024-11-22 18:33:47,950 - asyncio - ERROR - Unclosed connector\n",
      "connections: ['deque([(<aiohttp.client_proto.ResponseHandler object at 0x312fd0460>, 67284.601013291)])']\n",
      "connector: <aiohttp.connector.TCPConnector object at 0x312fa0430>\n",
      "2024-11-22 18:33:53,873 - asyncio - ERROR - Unclosed client session\n",
      "client_session: <aiohttp.client.ClientSession object at 0x312fb8a00>\n",
      "2024-11-22 18:33:53,874 - asyncio - ERROR - Unclosed connector\n",
      "connections: ['deque([(<aiohttp.client_proto.ResponseHandler object at 0x312fd13c0>, 67290.52370825)])']\n",
      "connector: <aiohttp.connector.TCPConnector object at 0x312fb8a30>\n",
      "2024-11-22 18:33:54,157 - asyncio - ERROR - Unclosed client session\n",
      "client_session: <aiohttp.client.ClientSession object at 0x312fa3e20>\n",
      "2024-11-22 18:33:54,157 - asyncio - ERROR - Unclosed connector\n",
      "connections: ['deque([(<aiohttp.client_proto.ResponseHandler object at 0x312fd0fa0>, 67290.8027935)])']\n",
      "connector: <aiohttp.connector.TCPConnector object at 0x312fa3e50>\n",
      "2024-11-22 18:33:54,175 - asyncio - ERROR - Unclosed client session\n",
      "client_session: <aiohttp.client.ClientSession object at 0x312f6a770>\n",
      "2024-11-22 18:33:54,175 - asyncio - ERROR - Unclosed connector\n",
      "connections: ['deque([(<aiohttp.client_proto.ResponseHandler object at 0x312fd01c0>, 67290.824129666)])']\n",
      "connector: <aiohttp.connector.TCPConnector object at 0x312f6a7a0>\n",
      "2024-11-22 18:33:54,188 - asyncio - ERROR - Unclosed client session\n",
      "client_session: <aiohttp.client.ClientSession object at 0x312fa0fa0>\n",
      "2024-11-22 18:33:54,188 - asyncio - ERROR - Unclosed connector\n",
      "connections: ['deque([(<aiohttp.client_proto.ResponseHandler object at 0x312fd0820>, 67290.833753)])']\n",
      "connector: <aiohttp.connector.TCPConnector object at 0x312fa0fd0>\n",
      "2024-11-22 18:33:54,208 - asyncio - ERROR - Unclosed client session\n",
      "client_session: <aiohttp.client.ClientSession object at 0x312fa26e0>\n",
      "2024-11-22 18:33:54,208 - asyncio - ERROR - Unclosed connector\n",
      "connections: ['deque([(<aiohttp.client_proto.ResponseHandler object at 0x312fd0be0>, 67290.856479875)])']\n",
      "connector: <aiohttp.connector.TCPConnector object at 0x312fa2710>\n",
      "2024-11-22 18:33:54,218 - asyncio - ERROR - Unclosed client session\n",
      "client_session: <aiohttp.client.ClientSession object at 0x312fa3280>\n",
      "2024-11-22 18:33:54,218 - asyncio - ERROR - Unclosed connector\n",
      "connections: ['deque([(<aiohttp.client_proto.ResponseHandler object at 0x312fd0dc0>, 67290.8663065)])']\n",
      "connector: <aiohttp.connector.TCPConnector object at 0x312fa32b0>\n",
      "2024-11-22 18:33:54,491 - asyncio - ERROR - Unclosed client session\n",
      "client_session: <aiohttp.client.ClientSession object at 0x312f6b8b0>\n",
      "2024-11-22 18:33:54,492 - asyncio - ERROR - Unclosed connector\n",
      "connections: ['deque([(<aiohttp.client_proto.ResponseHandler object at 0x312fd0640>, 67291.136899041)])']\n",
      "connector: <aiohttp.connector.TCPConnector object at 0x312f6b8e0>\n",
      "2024-11-22 18:33:54,519 - asyncio - ERROR - Unclosed client session\n",
      "client_session: <aiohttp.client.ClientSession object at 0x312fa1b40>\n",
      "2024-11-22 18:33:54,520 - asyncio - ERROR - Unclosed connector\n",
      "connections: ['deque([(<aiohttp.client_proto.ResponseHandler object at 0x312fd0a00>, 67291.164812208)])']\n",
      "connector: <aiohttp.connector.TCPConnector object at 0x312fa1b70>\n",
      "2024-11-22 18:33:55,126 - asyncio - ERROR - Unclosed client session\n",
      "client_session: <aiohttp.client.ClientSession object at 0x312fb95a0>\n",
      "2024-11-22 18:33:55,126 - asyncio - ERROR - Unclosed connector\n",
      "connections: ['deque([(<aiohttp.client_proto.ResponseHandler object at 0x312fd1600>, 67291.769839666)])']\n",
      "connector: <aiohttp.connector.TCPConnector object at 0x312fb95d0>\n"
     ]
    },
    {
     "name": "stdout",
     "output_type": "stream",
     "text": [
      "Batch 2/2\n",
      "Start: 10, End: 20\n"
     ]
    },
    {
     "name": "stderr",
     "output_type": "stream",
     "text": [
      "2024-11-22 18:34:04,431 - asyncio - ERROR - Unclosed client session\n",
      "client_session: <aiohttp.client.ClientSession object at 0x312fed900>\n",
      "2024-11-22 18:34:04,432 - asyncio - ERROR - Unclosed connector\n",
      "connections: ['deque([(<aiohttp.client_proto.ResponseHandler object at 0x313019060>, 67301.083107541)])']\n",
      "connector: <aiohttp.connector.TCPConnector object at 0x312feece0>\n",
      "2024-11-22 18:34:04,833 - asyncio - ERROR - Unclosed client session\n",
      "client_session: <aiohttp.client.ClientSession object at 0x312feea70>\n",
      "2024-11-22 18:34:04,834 - asyncio - ERROR - Unclosed connector\n",
      "connections: ['deque([(<aiohttp.client_proto.ResponseHandler object at 0x313019d20>, 67301.484966291)])']\n",
      "connector: <aiohttp.connector.TCPConnector object at 0x312fef6d0>\n",
      "2024-11-22 18:34:08,697 - asyncio - ERROR - Unclosed client session\n",
      "client_session: <aiohttp.client.ClientSession object at 0x312fba7a0>\n",
      "2024-11-22 18:34:08,697 - asyncio - ERROR - Unclosed connector\n",
      "connections: ['deque([(<aiohttp.client_proto.ResponseHandler object at 0x313018460>, 67305.347358958)])']\n",
      "connector: <aiohttp.connector.TCPConnector object at 0x312fb9870>\n",
      "2024-11-22 18:34:11,046 - asyncio - ERROR - Unclosed client session\n",
      "client_session: <aiohttp.client.ClientSession object at 0x312fb95d0>\n",
      "2024-11-22 18:34:11,047 - asyncio - ERROR - Unclosed connector\n",
      "connections: ['deque([(<aiohttp.client_proto.ResponseHandler object at 0x312fd05e0>, 67307.695843166)])']\n",
      "connector: <aiohttp.connector.TCPConnector object at 0x312fb94e0>\n",
      "2024-11-22 18:34:11,055 - asyncio - ERROR - Unclosed client session\n",
      "client_session: <aiohttp.client.ClientSession object at 0x312fa1c00>\n",
      "2024-11-22 18:34:11,056 - asyncio - ERROR - Unclosed connector\n",
      "connections: ['deque([(<aiohttp.client_proto.ResponseHandler object at 0x313018520>, 67307.704547208)])']\n",
      "connector: <aiohttp.connector.TCPConnector object at 0x312fa34f0>\n",
      "2024-11-22 18:34:11,065 - asyncio - ERROR - Unclosed client session\n",
      "client_session: <aiohttp.client.ClientSession object at 0x312fed090>\n",
      "2024-11-22 18:34:11,065 - asyncio - ERROR - Unclosed connector\n",
      "connections: ['deque([(<aiohttp.client_proto.ResponseHandler object at 0x313018f40>, 67307.713739458)])']\n",
      "connector: <aiohttp.connector.TCPConnector object at 0x312fefe80>\n",
      "2024-11-22 18:34:11,075 - asyncio - ERROR - Unclosed client session\n",
      "client_session: <aiohttp.client.ClientSession object at 0x312fa17b0>\n",
      "2024-11-22 18:34:11,075 - asyncio - ERROR - Unclosed connector\n",
      "connections: ['deque([(<aiohttp.client_proto.ResponseHandler object at 0x313019f60>, 67307.722886125)])']\n",
      "connector: <aiohttp.connector.TCPConnector object at 0x312fa1d50>\n",
      "2024-11-22 18:34:11,358 - asyncio - ERROR - Unclosed client session\n",
      "client_session: <aiohttp.client.ClientSession object at 0x312f6a7a0>\n",
      "2024-11-22 18:34:11,358 - asyncio - ERROR - Unclosed connector\n",
      "connections: ['deque([(<aiohttp.client_proto.ResponseHandler object at 0x312fd00a0>, 67308.004730083)])']\n",
      "connector: <aiohttp.connector.TCPConnector object at 0x312f6a5f0>\n",
      "2024-11-22 18:34:11,418 - asyncio - ERROR - Unclosed client session\n",
      "client_session: <aiohttp.client.ClientSession object at 0x312fbbdf0>\n",
      "2024-11-22 18:34:11,418 - asyncio - ERROR - Unclosed connector\n",
      "connections: ['deque([(<aiohttp.client_proto.ResponseHandler object at 0x312fd0880>, 67308.057622208)])']\n",
      "connector: <aiohttp.connector.TCPConnector object at 0x312fbb8e0>\n"
     ]
    }
   ],
   "source": [
    "BATCH_CANDLES_REQUEST = 10\n",
    "SLEEP_REQUEST = 0.5\n",
    "\n",
    "all_candles = {\n",
    "    interval: await clob.get_candles_batch_last_days(CONNECTOR_NAME, trading_pairs, interval, DAYS, BATCH_CANDLES_REQUEST,\n",
    "                                                  SLEEP_REQUEST) for interval in INTERVALS\n",
    "}\n",
    "# clob.dump_candles_cache(root_path)"
   ]
  },
  {
   "cell_type": "code",
   "execution_count": 5,
   "metadata": {
    "ExecuteTime": {
     "end_time": "2024-11-20T22:33:43.763336Z",
     "start_time": "2024-11-20T22:33:43.759942Z"
    }
   },
   "outputs": [
    {
     "data": {
      "text/plain": [
       "{('binance_perpetual',\n",
       "  'ACT-USDT',\n",
       "  '1m'): <core.data_structures.candles.Candles at 0x312f69d50>,\n",
       " ('binance_perpetual',\n",
       "  'MOODENG-USDT',\n",
       "  '1m'): <core.data_structures.candles.Candles at 0x312f69c90>,\n",
       " ('binance_perpetual',\n",
       "  '1000SATS-USDT',\n",
       "  '1m'): <core.data_structures.candles.Candles at 0x312f6a590>,\n",
       " ('binance_perpetual',\n",
       "  '1000SHIB-USDT',\n",
       "  '1m'): <core.data_structures.candles.Candles at 0x312f6a560>,\n",
       " ('binance_perpetual',\n",
       "  '1000BONK-USDT',\n",
       "  '1m'): <core.data_structures.candles.Candles at 0x312f6a4a0>,\n",
       " ('binance_perpetual',\n",
       "  'AGLD-USDT',\n",
       "  '1m'): <core.data_structures.candles.Candles at 0x312f6a470>,\n",
       " ('binance_perpetual',\n",
       "  'SUI-USDT',\n",
       "  '1m'): <core.data_structures.candles.Candles at 0x312f6a440>,\n",
       " ('binance_perpetual',\n",
       "  'WLD-USDT',\n",
       "  '1m'): <core.data_structures.candles.Candles at 0x312f6a890>,\n",
       " ('binance_perpetual',\n",
       "  'DOGE-USDT',\n",
       "  '1m'): <core.data_structures.candles.Candles at 0x312f6a170>,\n",
       " ('binance_perpetual',\n",
       "  'NEIRO-USDT',\n",
       "  '1m'): <core.data_structures.candles.Candles at 0x312f6b3d0>,\n",
       " ('binance_perpetual',\n",
       "  '1000X-USDT',\n",
       "  '1m'): <core.data_structures.candles.Candles at 0x312f6bbe0>,\n",
       " ('binance_perpetual',\n",
       "  'PNUT-USDT',\n",
       "  '1m'): <core.data_structures.candles.Candles at 0x312f68e50>,\n",
       " ('binance_perpetual',\n",
       "  'TROY-USDT',\n",
       "  '1m'): <core.data_structures.candles.Candles at 0x312f6a3b0>,\n",
       " ('binance_perpetual',\n",
       "  'ENA-USDT',\n",
       "  '1m'): <core.data_structures.candles.Candles at 0x312f6bdc0>,\n",
       " ('binance_perpetual',\n",
       "  'XRP-USDT',\n",
       "  '1m'): <core.data_structures.candles.Candles at 0x312f68700>,\n",
       " ('binance_perpetual',\n",
       "  '1000PEPE-USDT',\n",
       "  '1m'): <core.data_structures.candles.Candles at 0x312f6b7c0>,\n",
       " ('binance_perpetual',\n",
       "  'SOL-USDT',\n",
       "  '1m'): <core.data_structures.candles.Candles at 0x312f6b3a0>,\n",
       " ('binance_perpetual',\n",
       "  'HBAR-USDT',\n",
       "  '1m'): <core.data_structures.candles.Candles at 0x312f6b580>,\n",
       " ('binance_perpetual',\n",
       "  'HMSTR-USDT',\n",
       "  '1m'): <core.data_structures.candles.Candles at 0x312f6b850>}"
      ]
     },
     "execution_count": 5,
     "metadata": {},
     "output_type": "execute_result"
    }
   ],
   "source": [
    "clob.candles_cache"
   ]
  },
  {
   "cell_type": "code",
   "execution_count": 6,
   "metadata": {
    "ExecuteTime": {
     "end_time": "2024-11-20T22:34:05.724955Z",
     "start_time": "2024-11-20T22:34:05.687664Z"
    }
   },
   "outputs": [],
   "source": [
    "clob.dump_candles_cache(root_path)"
   ]
  },
  {
   "cell_type": "code",
   "execution_count": null,
   "metadata": {},
   "outputs": [],
   "source": []
  }
 ],
 "metadata": {
  "kernelspec": {
   "display_name": "Python 3 (ipykernel)",
   "language": "python",
   "name": "python3"
  },
  "language_info": {
   "codemirror_mode": {
    "name": "ipython",
    "version": 3
   },
   "file_extension": ".py",
   "mimetype": "text/x-python",
   "name": "python",
   "nbconvert_exporter": "python",
   "pygments_lexer": "ipython3",
   "version": "3.10.15"
  }
 },
 "nbformat": 4,
 "nbformat_minor": 4
}
