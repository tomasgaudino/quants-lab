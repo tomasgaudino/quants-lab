{
 "cells": [
  {
   "cell_type": "code",
   "id": "initial_id",
   "metadata": {
    "collapsed": true
   },
   "source": [
    "import sys\n",
    "import os\n",
    "import pandas as pd\n",
    "import json\n",
    "from dotenv import load_dotenv\n",
    "\n",
    "import logging\n",
    "logging.getLogger(\"asyncio\").setLevel(logging.CRITICAL)\n",
    "\n",
    "load_dotenv()\n",
    "\n",
    "root_path = os.path.abspath(os.path.join(os.getcwd(), '../..'))\n",
    "sys.path.append(root_path)\n",
    "\n",
    "from core.data_sources import CLOBDataSource\n",
    "from core.backtesting import BacktestingEngine\n",
    "from core.services.backend_api_client import BackendAPIClient\n",
    "\n",
    "backend_api = BackendAPIClient(host=os.getenv(\"TRADING_HOST\", \"localhost\"))\n",
    "clob = CLOBDataSource()\n",
    "backtesting = BacktestingEngine(root_path=root_path, load_cached_data=True)\n",
    "\n",
    "await backend_api.list_databases()"
   ],
   "outputs": [],
   "execution_count": null
  },
  {
   "metadata": {},
   "cell_type": "code",
   "source": [
    "selected_dbs = ['bots/archived/hummingbot-test_1_orugol-2024.11.27_01.45/data/test_1_orugol-2024.sqlite']\n",
    "fetch_trades = False\n",
    "\n",
    "\n",
    "# Get selected dbs\n",
    "dbs = await backend_api.read_databases(selected_dbs)\n",
    "\n",
    "# Parse internal fields\n",
    "selected_db = dbs[0].copy()\n",
    "for table_name in selected_db[\"tables\"].keys():\n",
    "    selected_db[\"tables\"][table_name] = pd.DataFrame(json.loads(selected_db[\"tables\"][table_name]))\n",
    "\n",
    "# Load into dfs executors and controllers\n",
    "executors = selected_db[\"tables\"][\"executors\"]\n",
    "controllers = selected_db[\"tables\"][\"controllers\"]\n",
    "\n",
    "# Extract controller ids for analysis\n",
    "controller_ids = list(controllers[\"id\"].unique())\n",
    "\n",
    "# Choose a controller to analyse\n",
    "selected_controller = \"8uCGoaQhJHirY895PSqZn1mmXkxxCBQr23RvXHYevNGV\"\n",
    "selected_executors = executors[executors[\"controller_id\"] == selected_controller]\n",
    "selected_config = json.loads(controllers.loc[controllers[\"id\"] == selected_controller, \"config\"][0])\n",
    "\n",
    "# Setup configs\n",
    "connector_name = selected_config[\"connector_name\"]\n",
    "trading_pair = selected_config[\"trading_pair\"]\n",
    "interval = \"1s\"\n",
    "start_time = selected_executors.timestamp.min() - 60 * 10\n",
    "end_time = selected_executors.close_timestamp.max() + 60 * 10\n",
    "from_trades = True\n",
    "\n",
    "if fetch_trades:\n",
    "    candles = await clob.get_candles(connector_name=connector_name,\n",
    "                                     trading_pair=trading_pair,\n",
    "                                     interval=interval,\n",
    "                                     start_time=start_time,\n",
    "                                     end_time=end_time,\n",
    "                                     from_trades=from_trades)\n",
    "    candles[\"quote_asset_volume\"] = candles[\"close\"] * candles[\"volume\"]\n",
    "    missing_cols = ['n_trades', 'taker_buy_base_volume', 'taker_buy_quote_volume']\n",
    "    for connector_name, trading_pair, interval in clob._candles_cache:\n",
    "        clob._candles_cache[(connector_name, trading_pair, interval)] = candles.data\n",
    "    clob.dump_candles_cache(root_path)\n",
    "else:\n",
    "    clob.load_candles_cache(root_path)\n",
    "    backtesting.load_candles_cache_by_connector_pair(connector_name=connector_name,\n",
    "                                                     trading_pair=trading_pair,\n",
    "                                                     root_path=root_path)\n",
    "    # TODO: remove this fixed values after solving issue with missmatching interval in candles downloading\n",
    "    candles = clob._candles_cache[(connector_name, trading_pair, interval)].copy()\n",
    "    fixed_start_time = candles.timestamp.min()\n",
    "    fixed_end_time = candles.timestamp.max()\n",
    "\n",
    "    # Get config instance and run bt_results\n",
    "    config_instance = backtesting.get_controller_config_instance_from_dict(selected_config)\n",
    "    backtesting_result = await backtesting.run_backtesting(config_instance, candles.timestamp.min(), candles.timestamp.max(), interval)\n"
   ],
   "id": "b8251c33f33b2b3f",
   "outputs": [],
   "execution_count": null
  },
  {
   "metadata": {},
   "cell_type": "code",
   "source": "backtesting_result.get_backtesting_figure()",
   "id": "34553bb68f5f6fd7",
   "outputs": [],
   "execution_count": null
  },
  {
   "metadata": {},
   "cell_type": "code",
   "source": [
    "from hummingbot.connector.connector_base import TradeType\n",
    "from hummingbot.strategy_v2.models.executors_info import ExecutorInfo\n",
    "\n",
    "live_executors = selected_executors.copy()\n",
    "live_executors = live_executors[(live_executors[\"timestamp\"] >= fixed_start_time) & (live_executors[\"timestamp\"] <= fixed_end_time)]\n",
    "live_executors[\"config\"] = live_executors[\"config\"].apply(lambda x: json.loads(x))\n",
    "live_executors[\"custom_info\"] = live_executors[\"custom_info\"].apply(lambda x: json.loads(x))\n",
    "for index, executor in live_executors.iterrows():\n",
    "    if executor[\"custom_info\"].get(\"close_price\") is None:\n",
    "        net_pnl_pct = executor.net_pnl_pct if executor.custom_info[\"side\"] == TradeType.BUY else - executor.net_pnl_pct\n",
    "        executor[\"custom_info\"][\"close_price\"] = (1 + net_pnl_pct) * executor.custom_info[\"current_position_average_price\"]\n",
    "\n",
    "# TODO: remove after using dbs with close_price in custom_info\n",
    "live_executors_info_list = [ExecutorInfo(**executor) for executor in live_executors.to_dict(orient=\"records\")]\n",
    "live_executors_info_list"
   ],
   "id": "8960fbc220131270",
   "outputs": [],
   "execution_count": null
  },
  {
   "metadata": {},
   "cell_type": "code",
   "source": [
    "bt_fig = backtesting_result.get_backtesting_figure()\n",
    "backtesting_result._add_executors_trace(fig=bt_fig,\n",
    "                                        executors=live_executors_info_list,\n",
    "                                        line_style=\"filled\")"
   ],
   "id": "6dd45c3979a59e85",
   "outputs": [],
   "execution_count": null
  },
  {
   "metadata": {},
   "cell_type": "code",
   "source": "",
   "id": "e15934273900b4e7",
   "outputs": [],
   "execution_count": null
  }
 ],
 "metadata": {
  "kernelspec": {
   "display_name": "Python 3",
   "language": "python",
   "name": "python3"
  },
  "language_info": {
   "codemirror_mode": {
    "name": "ipython",
    "version": 2
   },
   "file_extension": ".py",
   "mimetype": "text/x-python",
   "name": "python",
   "nbconvert_exporter": "python",
   "pygments_lexer": "ipython2",
   "version": "2.7.6"
  }
 },
 "nbformat": 4,
 "nbformat_minor": 5
}
