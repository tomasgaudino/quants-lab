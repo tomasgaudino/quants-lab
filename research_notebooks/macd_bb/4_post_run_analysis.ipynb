{
 "cells": [
  {
   "cell_type": "code",
   "id": "initial_id",
   "metadata": {
    "collapsed": true
   },
   "source": [
    "from core.data_sources import CLOBDataSource\n",
    "from core.services.backend_api_client import BackendAPIClient\n",
    "import sys\n",
    "import os\n",
    "import pandas as pd\n",
    "import json\n",
    "from dotenv import load_dotenv\n",
    "\n",
    "import logging\n",
    "logging.getLogger(\"asyncio\").setLevel(logging.CRITICAL)\n",
    "\n",
    "load_dotenv()\n",
    "\n",
    "root_path = os.path.abspath(os.path.join(os.getcwd(), '../..'))\n",
    "sys.path.append(root_path)\n",
    "print(os.getenv(\"TRADING_HOST\", \"localhost\"))\n",
    "backend_api = BackendAPIClient(host=os.getenv(\"TRADING_HOST\", \"localhost\"))\n",
    "clob = CLOBDataSource()"
   ],
   "outputs": [],
   "execution_count": null
  },
  {
   "metadata": {},
   "cell_type": "code",
   "source": "await backend_api.list_databases()",
   "id": "b8251c33f33b2b3f",
   "outputs": [],
   "execution_count": null
  },
  {
   "metadata": {},
   "cell_type": "code",
   "source": [
    "selected_dbs = ['bots/archived/hummingbot-test_1_orugol-2024.11.27_01.45/data/test_1_orugol-2024.sqlite']\n",
    "dbs = await backend_api.read_databases(selected_dbs)\n",
    "dbs"
   ],
   "id": "2700d5a0780113d8",
   "outputs": [],
   "execution_count": null
  },
  {
   "metadata": {},
   "cell_type": "code",
   "source": [
    "selected_db = dbs[0].copy()\n",
    "for table_name in selected_db[\"tables\"].keys():\n",
    "    selected_db[\"tables\"][table_name] = pd.DataFrame(json.loads(selected_db[\"tables\"][table_name]))\n",
    "selected_db[\"tables\"]"
   ],
   "id": "b8eb288cbc4fc26f",
   "outputs": [],
   "execution_count": null
  },
  {
   "metadata": {},
   "cell_type": "code",
   "source": [
    "\n",
    "executors = selected_db[\"tables\"][\"executors\"]\n",
    "controllers = selected_db[\"tables\"][\"controllers\"]\n",
    "executors.info()"
   ],
   "id": "9612cd8d62f9fb6f",
   "outputs": [],
   "execution_count": null
  },
  {
   "metadata": {},
   "cell_type": "code",
   "source": [
    "controller_ids = list(controllers[\"id\"].unique())\n",
    "controller_ids"
   ],
   "id": "4cdd4943333cf554",
   "outputs": [],
   "execution_count": null
  },
  {
   "metadata": {},
   "cell_type": "code",
   "source": [
    "selected_controller = \"8uCGoaQhJHirY895PSqZn1mmXkxxCBQr23RvXHYevNGV\"\n",
    "selected_executors = executors[executors[\"controller_id\"] == selected_controller]\n",
    "selected_executors"
   ],
   "id": "fa26c0225ad2eb0a",
   "outputs": [],
   "execution_count": null
  },
  {
   "metadata": {},
   "cell_type": "code",
   "source": [
    "selected_config = json.loads(controllers.loc[controllers[\"id\"] == selected_controller, \"config\"][0])\n",
    "selected_config"
   ],
   "id": "3a2bb8ba84ecdb08",
   "outputs": [],
   "execution_count": null
  },
  {
   "metadata": {},
   "cell_type": "code",
   "source": [
    "candles = await clob.get_candles(connector_name=selected_config[\"connector_name\"],\n",
    "                                 trading_pair=selected_config[\"trading_pair\"],\n",
    "                                 interval=\"1s\",\n",
    "                                 start_time=selected_executors.timestamp.min() - 60 * 10,\n",
    "                                 end_time=selected_executors.close_timestamp.max() + 60 * 10,\n",
    "                                 from_trades=True)"
   ],
   "id": "b68b892120d90600",
   "outputs": [],
   "execution_count": null
  },
  {
   "metadata": {},
   "cell_type": "code",
   "source": [
    "connector_name=selected_config[\"connector_name\"]\n",
    "trading_pair=selected_config[\"trading_pair\"]\n",
    "interval=\"1s\"\n",
    "start_time=selected_executors.timestamp.min() - 60 * 10\n",
    "end_time=selected_executors.close_timestamp.max() + 60 * 10\n",
    "from_trades=True"
   ],
   "id": "26d503a67d8142b9",
   "outputs": [],
   "execution_count": null
  },
  {
   "metadata": {},
   "cell_type": "code",
   "source": [
    "candles[\"quote_asset_volume\"] = candles[\"close\"] * candles[\"volume\"]\n",
    "missing_cols = ['n_trades', 'taker_buy_base_volume', 'taker_buy_quote_volume']\n",
    "for connector_name, trading_pair, interval in clob._candles_cache:\n",
    "    clob._candles_cache[(connector_name, trading_pair, interval)] = candles.data\n",
    "clob.dump_candles_cache(root_path)"
   ],
   "id": "3381ab65e3100a29",
   "outputs": [],
   "execution_count": null
  },
  {
   "metadata": {},
   "cell_type": "code",
   "source": [
    "from core.backtesting import BacktestingEngine\n",
    "\n",
    "backtesting = BacktestingEngine(root_path=root_path, load_cached_data=True)\n",
    "clob.load_candles_cache(root_path)\n",
    "\n",
    "config_instance = backtesting.get_controller_config_instance_from_dict(selected_config)\n",
    "\n",
    "backtesting.load_candles_cache_by_connector_pair(connector_name=connector_name,\n",
    "                                                 trading_pair=trading_pair,\n",
    "                                                 root_path=root_path)"
   ],
   "id": "ce3f6a0dde672245",
   "outputs": [],
   "execution_count": null
  },
  {
   "metadata": {},
   "cell_type": "code",
   "source": [
    "candles = clob._candles_cache[(connector_name, trading_pair, interval)].copy()\n",
    "candles"
   ],
   "id": "3a421a818e9d204b",
   "outputs": [],
   "execution_count": null
  },
  {
   "metadata": {},
   "cell_type": "code",
   "source": [
    "backtesting_result = await backtesting.run_backtesting(config_instance, candles.timestamp.min(), candles.timestamp.max(), interval)\n",
    "backtesting_result"
   ],
   "id": "1f0d3e9f2b25b731",
   "outputs": [],
   "execution_count": null
  },
  {
   "metadata": {},
   "cell_type": "code",
   "source": [
    "bt_executors_df = backtesting_result.executors_df.copy()\n",
    "bt_executors_df"
   ],
   "id": "2ac7fcbbc1e2a153",
   "outputs": [],
   "execution_count": null
  },
  {
   "metadata": {},
   "cell_type": "code",
   "source": [
    "from plotly.subplots import make_subplots\n",
    "import plotly.graph_objects as go\n",
    "\n",
    "\n",
    "fig = make_subplots(rows=2, cols=1, shared_xaxes=True)\n",
    "\n",
    "fig.add_trace(go.Candlestick(x=candles[\"timestamp\"],\n",
    "                             open=candles[\"open\"],\n",
    "                             high=candles[\"high\"],\n",
    "                             low=candles[\"low\"],\n",
    "                             close=candles[\"close\"]\n",
    "                             ), row=1, col=1)\n",
    "\n",
    "fig.show()"
   ],
   "id": "1bb95d1a7d59a3e8",
   "outputs": [],
   "execution_count": null
  },
  {
   "metadata": {},
   "cell_type": "code",
   "source": "fig.show()",
   "id": "4612b1225b1d7ac7",
   "outputs": [],
   "execution_count": null
  },
  {
   "metadata": {},
   "cell_type": "code",
   "source": [
    "candles.to_csv(os.path.join(root_path, \"data\", \"post_run\", \"candles.csv\"))\n",
    "executors.to_csv(os.path.join(root_path, \"data\", \"post_run\", \"executors.csv\"))\n",
    "bt_executors_df.to_csv(os.path.join(root_path, \"data\", \"post_run\", \"bt_executors_df.csv\"))"
   ],
   "id": "da8d8800e5f2ff0d",
   "outputs": [],
   "execution_count": null
  },
  {
   "metadata": {},
   "cell_type": "code",
   "source": "",
   "id": "34553bb68f5f6fd7",
   "outputs": [],
   "execution_count": null
  }
 ],
 "metadata": {
  "kernelspec": {
   "display_name": "Python 3",
   "language": "python",
   "name": "python3"
  },
  "language_info": {
   "codemirror_mode": {
    "name": "ipython",
    "version": 2
   },
   "file_extension": ".py",
   "mimetype": "text/x-python",
   "name": "python",
   "nbconvert_exporter": "python",
   "pygments_lexer": "ipython2",
   "version": "2.7.6"
  }
 },
 "nbformat": 4,
 "nbformat_minor": 5
}
