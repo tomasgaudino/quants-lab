{
 "cells": [
  {
   "cell_type": "code",
   "execution_count": 1,
   "metadata": {
    "collapsed": false
   },
   "outputs": [],
   "source": [
    "import os\n",
    "import sys\n",
    "\n",
    "root_path = os.path.abspath(os.path.join(os.getcwd(), '../..'))\n",
    "sys.path.append(root_path)\n",
    "\n",
    "from core.data_sources import CLOBDataSource\n",
    "from core.services.timescale_client import TimescaleClient\n",
    "from decimal import Decimal\n",
    "\n",
    "\n",
    "clob = CLOBDataSource()\n",
    "ts_client = TimescaleClient(\n",
    "    host=os.getenv(\"TIMESCALE_HOST\", \"63.250.52.93\"),\n",
    "    port=os.getenv(\"TIMESCALE_PORT\", 5432),\n",
    "    user=os.getenv(\"TIMESCALE_USER\", \"admin\"),\n",
    "    password=os.getenv(\"TIMESCALE_PASSWORD\", \"admin\"),\n",
    "    database=\"timescaledb\"\n",
    ")\n",
    "await ts_client.connect()"
   ]
  },
  {
   "cell_type": "code",
   "execution_count": 2,
   "metadata": {},
   "outputs": [
    {
     "name": "stderr",
     "output_type": "stream",
     "text": [
      "2024-11-07 22:36:03,361 - asyncio - ERROR - Unclosed client session\n",
      "client_session: <aiohttp.client.ClientSession object at 0x7fafb54c4340>\n",
      "2024-11-07 22:36:03,362 - asyncio - ERROR - Unclosed connector\n",
      "connections: ['[(<aiohttp.client_proto.ResponseHandler object at 0x7fafb54d5480>, 323.161051594)]']\n",
      "connector: <aiohttp.connector.TCPConnector object at 0x7fafb54c4310>\n"
     ]
    }
   ],
   "source": [
    "CONNECTOR_NAME = \"binance_perpetual\"\n",
    "# Trading Rules Filter\n",
    "QUOTE_ASSET = \"USDT\"\n",
    "MIN_NOTIONAL_SIZE = 5  # In USDT\n",
    "MAX_PRICE_STEP = 0.001  # Min price step in % (tick size)\n",
    "\n",
    "trading_rules = await clob.get_trading_rules(CONNECTOR_NAME)\n",
    "trading_pairs = trading_rules.filter_by_quote_asset(QUOTE_ASSET) \\\n",
    "    .filter_by_min_notional_size(Decimal(MIN_NOTIONAL_SIZE)) \\\n",
    "    .get_all_trading_pairs()\n",
    "trading_pairs_available = await ts_client.get_available_pairs()\n",
    "trading_pairs_available = [pair[1] for pair in trading_pairs_available if pair[0] == CONNECTOR_NAME]\n",
    "\n",
    "trading_pairs = [trading_pair for trading_pair in trading_pairs_available if trading_pair in trading_pairs]"
   ]
  },
  {
   "cell_type": "code",
   "execution_count": null,
   "metadata": {},
   "outputs": [],
   "source": [
    "trading_pairs"
   ]
  },
  {
   "cell_type": "code",
   "execution_count": 4,
   "metadata": {},
   "outputs": [],
   "source": [
    "from core.backtesting.optimizer import StrategyOptimizer\n",
    "\n",
    "\n",
    "resolution = \"1s\"\n",
    "optimizer = StrategyOptimizer(engine=\"postgres\",\n",
    "                              root_path=root_path,\n",
    "                              resolution=resolution,\n",
    "                              db_client=ts_client,\n",
    "                              db_host=\"63.250.52.93\",\n",
    "                              db_port=5433,\n",
    "                              db_user=\"admin\",\n",
    "                              db_pass=\"admin\",\n",
    "                              )\n"
   ]
  },
  {
   "cell_type": "code",
   "execution_count": 5,
   "metadata": {},
   "outputs": [
    {
     "data": {
      "text/plain": [
       "['xtreet_bb_task_2024-11-07']"
      ]
     },
     "execution_count": 5,
     "metadata": {},
     "output_type": "execute_result"
    }
   ],
   "source": [
    "optimizer.get_all_study_names()"
   ]
  },
  {
   "cell_type": "code",
   "execution_count": 4,
   "metadata": {},
   "outputs": [],
   "source": [
    "from core.backtesting.optimizer import BacktestingConfig, BaseStrategyConfigGenerator\n",
    "from hummingbot.strategy_v2.executors.position_executor.data_types import TrailingStop\n",
    "from controllers.directional_trading.macd_mt_dca import MacdMTDCAControllerConfig\n",
    "from decimal import Decimal\n",
    "import optuna\n",
    "\n",
    "class MACDMTConfigGenerator(BaseStrategyConfigGenerator):\n",
    "    \"\"\"\n",
    "    Strategy configuration generator for MACD MT optimization.\n",
    "    \"\"\"\n",
    "    async def generate_config(self, trial) -> BacktestingConfig:\n",
    "            \n",
    "        # paramemeters when dynamic = False\n",
    "        stop_loss = trial.suggest_float(\"stop_loss\", 0.01, 0.1, step=0.01)\n",
    "        trailing_stop_activation_price = trial.suggest_float(\"trailing_stop_activation_price\", 0.004, 0.02, step=0.001)\n",
    "        trailing_delta_ratio = trial.suggest_float(\"trailing_delta_ratio\", 0.05, 0.1, step=0.01)\n",
    "        trailing_stop_trailing_delta = trailing_stop_activation_price * trailing_delta_ratio\n",
    "        dca_spread_1 = trial.suggest_float(\"dca_spread_1\", 0.01, 0.04, step=0.01)       \n",
    "        bb_interval = \"1m\"\n",
    "        bb_length = 200\n",
    "        bb_std = 2\n",
    "\n",
    "        dynamic_order_spread = False\n",
    "        dynamic_target =  False\n",
    "\n",
    "\n",
    "\n",
    "        min_stop_loss=Decimal(\"0.007\")\n",
    "        max_stop_loss=Decimal(\"0.1\")\n",
    "        min_trailing_stop=Decimal(\"0.0025\")\n",
    "        max_trailing_stop=Decimal(\"0.03\")\n",
    "        \n",
    "        #bb_interval = trial.suggest_categorical(\"bb_interval\", [\"1m\", \"5m\", \"15m\", \"1h\"])\n",
    "        #bb_length = trial.suggest_int(\"bb_length\", 50, 200, step=50)\n",
    "        #bb_std = trial.suggest_float(\"bb_std\", 1.5, 3, step=0.5)\n",
    "        #stop_loss = trial.suggest_float(\"stop_loss\", 0.1, 1, step=0.1)\n",
    "        #dca_spread_1 = trial.suggest_float(\"dca_spread_1\", 0.25, 1, step=0.25)       \n",
    "        #trailing_stop_activation_price = trial.suggest_float(\"trailing_stop_activation_price\", 0.25, 1, step=0.25)\n",
    "        #trailing_delta_ratio = trial.suggest_float(\"trailing_delta_ratio\", 0.05, 0.1, step=0.01)\n",
    "        #trailing_stop_trailing_delta = trailing_stop_activation_price * trailing_delta_ratio\n",
    "\n",
    "        trailing_stop = TrailingStop(\n",
    "            activation_price=Decimal(trailing_stop_activation_price),\n",
    "            trailing_delta=Decimal(trailing_stop_trailing_delta)\n",
    "        )\n",
    "\n",
    "        dca_amount_1 = trial.suggest_float(\"dca_amount_1\", 1.0, 3.0, step=1.0)  \n",
    "        max_executors_per_side = trial.suggest_int(\"max_executors_per_side\", 1, 3, step=1)\n",
    "        macd_interval_1 = trial.suggest_categorical(\"macd_interval_1\", [\"1m\", \"5m\", \"15m\", \"1h\"])\n",
    "        macd_signal_type_1 = trial.suggest_categorical(\"macd_signal_type_1\", [\"mean_reversion_1\", \"mean_reversion_2\", \"trend_following\"])\n",
    "        macd_fast_1 = trial.suggest_int(\"macd_fast_1\", 9, 59, step=10)\n",
    "        macd_slow_1 = trial.suggest_int(\"macd_slow_1\", 21, 201, step=10)\n",
    "        macd_signal_1 = trial.suggest_int(\"macd_signal_1\", 10, 100, step=10)\n",
    "        macd_number_of_candles_1 = trial.suggest_int(\"macd_number_of_candles_1\", 1, 6, step=2)\n",
    "        macd_interval_2 = trial.suggest_categorical(\"macd_interval_2\", [\"1m\", \"5m\", \"15m\", \"1h\"])\n",
    "        macd_signal_type_2 = trial.suggest_categorical(\"macd_signal_type_2\", [\"mean_reversion_1\", \"mean_reversion_2\", \"trend_following\"])\n",
    "        macd_fast_2 = trial.suggest_int(\"macd_fast_2\", 9, 59, step=10)\n",
    "        macd_slow_2 = trial.suggest_int(\"macd_slow_2\", 21, 201, step=10)\n",
    "        macd_signal_2 = trial.suggest_int(\"macd_signal_2\", 10, 100, step=10)\n",
    "        macd_number_of_candles_2 = trial.suggest_int(\"macd_number_of_candles_2\", 1, 6, step=2)\n",
    "        cooldown_time =  trial.suggest_int(\"cooldown_time\", 60*60, 60*60*5, step=60*60)\n",
    "        take_profit = 100\n",
    "        time_limit = 60 * 60 * 24 * 2\n",
    "        total_amount_quote = 100\n",
    "        executor_refresh_time = 60*2\n",
    "        \n",
    "        # Apply logical constraints, pruning if violated\n",
    "        if (macd_fast_1 >= macd_slow_1 or macd_fast_2 >= macd_slow_2):\n",
    "            raise optuna.TrialPruned()\n",
    "\n",
    "\n",
    "\n",
    "        # Create the strategy configuration\n",
    "        config = MacdMTDCAControllerConfig(\n",
    "            connector_name=\"binance_perpetual\",\n",
    "            trading_pair=self.trading_pair,\n",
    "            candles_trading_pair=self.candles_trading_pair,\n",
    "            macd_interval_1 = macd_interval_1,\n",
    "            macd_signal_type_1 = macd_signal_type_1,\n",
    "            bb_interval = bb_interval,\n",
    "            bb_length = bb_length,\n",
    "            bb_std = bb_std,\n",
    "            dynamic_order_spread = dynamic_order_spread,\n",
    "            dynamic_target = dynamic_target,\n",
    "            min_stop_loss = min_stop_loss,\n",
    "            max_stop_loss = max_stop_loss,\n",
    "            min_trailing_stop = min_trailing_stop,\n",
    "            max_trailing_stop = max_trailing_stop,\n",
    "            macd_fast_1 = macd_fast_1,\n",
    "            macd_slow_1 = macd_slow_1,\n",
    "            macd_signal_1 = macd_signal_1,\n",
    "            macd_number_of_candles_1 = macd_number_of_candles_1,\n",
    "            macd_interval_2 = macd_interval_2,\n",
    "            macd_signal_type_2 = macd_signal_type_2,\n",
    "            macd_fast_2 = macd_fast_2,\n",
    "            macd_slow_2 = macd_slow_2,\n",
    "            macd_signal_2 = macd_signal_2,\n",
    "            macd_number_of_candles_2 = macd_number_of_candles_2,\n",
    "            dca_amounts = [Decimal(\"1\"), dca_amount_1],\n",
    "            dca_spreads = [Decimal(\"-0.00000001\"), dca_spread_1],\n",
    "            total_amount_quote=Decimal(total_amount_quote),\n",
    "            take_profit=Decimal(take_profit),\n",
    "            stop_loss=Decimal(stop_loss),\n",
    "            trailing_stop=trailing_stop,\n",
    "            time_limit=time_limit,\n",
    "            max_executors_per_side=max_executors_per_side,\n",
    "            executor_refresh_time = executor_refresh_time,\n",
    "            cooldown_time=cooldown_time,\n",
    "        )\n",
    "\n",
    "        # Return the configuration encapsulated in BacktestingConfig\n",
    "        return BacktestingConfig(config=config, start=self.start, end=self.end)"
   ]
  },
  {
   "cell_type": "code",
   "execution_count": null,
   "metadata": {},
   "outputs": [
    {
     "name": "stderr",
     "output_type": "stream",
     "text": [
      "[I 2024-11-07 22:33:27,714] Using an existing study with name 'test_final_mt_fixed_pct_1week_oct' instead of creating a new one.\n",
      "/home/sapel/miniconda3/envs/quants-lab/lib/python3.10/site-packages/optuna/distributions.py:704: UserWarning: The distribution is specified by [1, 6] and step=2, but the range is not divisible by `step`. It will be replaced by [1, 5].\n",
      "  warnings.warn(\n",
      "2024-11-07 22:33:30,162 - asyncio - ERROR - Unclosed client session\n",
      "client_session: <aiohttp.client.ClientSession object at 0x7fd482f0d9f0>\n",
      "2024-11-07 22:33:30,165 - asyncio - ERROR - Unclosed connector\n",
      "connections: ['[(<aiohttp.client_proto.ResponseHandler object at 0x7fd483dc88e0>, 169.961637649)]']\n",
      "connector: <aiohttp.connector.TCPConnector object at 0x7fd482f0d5a0>\n",
      "2024-11-07 22:33:36,157 - asyncio - ERROR - Unclosed client session\n",
      "client_session: <aiohttp.client.ClientSession object at 0x7fd482f0e6b0>\n",
      "2024-11-07 22:33:36,157 - asyncio - ERROR - Unclosed connector\n",
      "connections: ['[(<aiohttp.client_proto.ResponseHandler object at 0x7fd484e1c5e0>, 175.955334495)]']\n",
      "connector: <aiohttp.connector.TCPConnector object at 0x7fd482f0e6e0>\n",
      "2024-11-07 22:33:39,542 - asyncio - ERROR - Unclosed client session\n",
      "client_session: <aiohttp.client.ClientSession object at 0x7fd482f0e800>\n",
      "2024-11-07 22:33:39,543 - asyncio - ERROR - Unclosed connector\n",
      "connections: ['[(<aiohttp.client_proto.ResponseHandler object at 0x7fd484e1f820>, 179.341436681)]']\n",
      "connector: <aiohttp.connector.TCPConnector object at 0x7fd482f0f160>\n",
      "2024-11-07 22:33:47,165 - asyncio - ERROR - Unclosed client session\n",
      "client_session: <aiohttp.client.ClientSession object at 0x7fd482f0f7c0>\n",
      "2024-11-07 22:33:47,169 - asyncio - ERROR - Unclosed connector\n",
      "connections: ['[(<aiohttp.client_proto.ResponseHandler object at 0x7fd484e1f760>, 186.95805352)]']\n",
      "connector: <aiohttp.connector.TCPConnector object at 0x7fd482f0ebf0>\n",
      "2024-11-07 22:33:47,994 - asyncio - ERROR - Unclosed client session\n",
      "client_session: <aiohttp.client.ClientSession object at 0x7fd491f5b0a0>\n",
      "2024-11-07 22:33:47,995 - asyncio - ERROR - Unclosed client session\n",
      "client_session: <aiohttp.client.ClientSession object at 0x7fd491e1f550>\n",
      "/home/sapel/miniconda3/envs/quants-lab/lib/python3.10/site-packages/hummingbot/strategy_v2/backtesting/executors_simulator/dca_executor_simulator.py:67: SettingWithCopyWarning: \n",
      "A value is trying to be set on a copy of a slice from a DataFrame.\n",
      "Try using .loc[row_indexer,col_indexer] = value instead\n",
      "\n",
      "See the caveats in the documentation: https://pandas.pydata.org/pandas-docs/stable/user_guide/indexing.html#returning-a-view-versus-a-copy\n",
      "  returns_df.loc[ts_activated_condition, \"ts_trigger_price\"] = (returns_df[ts_activated_condition][\"close\"] * float(1 - trailing_sl_delta_pct)).cummax()\n"
     ]
    }
   ],
   "source": [
    "from core.backtesting.optimizer import StrategyOptimizer\n",
    "from hummingbot.strategy_v2.backtesting import DirectionalTradingBacktesting\n",
    "\n",
    "import datetime\n",
    "import logging\n",
    "\n",
    "\n",
    "\n",
    "logging.basicConfig(level=logging.INFO)\n",
    "logger = logging.getLogger(__name__)\n",
    "\n",
    "BACKTESTING_DAYS = 7\n",
    "\n",
    "start_date = datetime.datetime.now() - datetime.timedelta(days=BACKTESTING_DAYS)\n",
    "end_date = datetime.datetime.now()\n",
    "logger.info(\"Generating config generator\")\n",
    "\n",
    "await optimizer._db_client.connect()\n",
    "for trading_pair in trading_pairs:\n",
    "    config_generator = MACDMTConfigGenerator(start_date=start_date, end_date=end_date, backtester=DirectionalTradingBacktesting())\n",
    "    config_generator.trading_pair = trading_pair\n",
    "    config_generator.candles_trading_pair = trading_pair\n",
    "\n",
    "    candles = await optimizer._db_client.get_candles(CONNECTOR_NAME, trading_pair,\n",
    "                                                     resolution, start_date.timestamp(), end_date.timestamp())\n",
    "    start_time = candles.data[\"timestamp\"].min()\n",
    "    end_time = candles.data[\"timestamp\"].max()\n",
    "    config_generator.backtester.backtesting_data_provider.candles_feeds[\n",
    "        f\"{CONNECTOR_NAME}_{trading_pair}_{resolution}\"] = candles.data\n",
    "    config_generator.start = start_time\n",
    "    config_generator.end = end_time\n",
    "    await optimizer.optimize(\n",
    "        study_name=\"test_final_mt_fixed_pct_1week_oct\",\n",
    "        config_generator=config_generator,\n",
    "        n_trials=2,\n",
    "    )"
   ]
  },
  {
   "cell_type": "code",
   "execution_count": null,
   "metadata": {
    "collapsed": false
   },
   "outputs": [],
   "source": [
    "\n",
    "from core.backtesting.optimizer import StrategyOptimizer\n",
    "\n",
    "optimizer = StrategyOptimizer(root_path=root_path)\n",
    "optimizer.launch_optuna_dashboard()"
   ]
  },
  {
   "cell_type": "code",
   "execution_count": null,
   "metadata": {
    "collapsed": false
   },
   "outputs": [],
   "source": []
  }
 ],
 "metadata": {
  "kernelspec": {
   "display_name": "quants-lab",
   "language": "python",
   "name": "python3"
  },
  "language_info": {
   "codemirror_mode": {
    "name": "ipython",
    "version": 3
   },
   "file_extension": ".py",
   "mimetype": "text/x-python",
   "name": "python",
   "nbconvert_exporter": "python",
   "pygments_lexer": "ipython3",
   "version": "3.10.15"
  }
 },
 "nbformat": 4,
 "nbformat_minor": 0
}
